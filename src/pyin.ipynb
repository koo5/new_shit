{
 "cells": [
  {
   "cell_type": "code",
   "execution_count": 1,
   "metadata": {},
   "outputs": [],
   "source": [
    "from weakref import ref as weakref\n",
    "from rdflib import URIRef\n",
    "import rdflib\n",
    "import sys\n",
    "#import common_utils\n",
    "#g = common_utils.parse_input()\n",
    "import logging\n",
    "import urllib.parse\n",
    "from collections import defaultdict"
   ]
  },
  {
   "cell_type": "heading",
   "metadata": {},
   "level": 1,
   "source": [
    "#OUTPUT:\n",
    "we write everything to stdout. We should output a valid n3 file with kbdbg2 schema (which is to be defined). \n",
    "we add lines starting with \"#\", those are n3 comments. \n",
    "\"#RESULT:\" lines are for univar fronted/runner/tester (\"tau\")\n",
    "the rest of the comment lines are random noise"
   ]
  },
  {
   "cell_type": "code",
   "execution_count": 8,
   "metadata": {},
   "outputs": [
    {
     "name": "stderr",
     "output_type": "stream",
     "text": [
      "#@prefix kbdbg: <http://kbd.bg/#> \n"
     ]
    },
    {
     "name": "stderr",
     "output_type": "stream",
     "text": [
      "#@prefix kbdbg: <http://kbd.bg/#> \n"
     ]
    },
    {
     "name": "stderr",
     "output_type": "stream",
     "text": [
      "@prefix kbdbg: <http://kbd.bg/#> \n"
     ]
    },
    {
     "name": "stderr",
     "output_type": "stream",
     "text": [
      "#@prefix : <file:///#> \n"
     ]
    },
    {
     "name": "stderr",
     "output_type": "stream",
     "text": [
      "#@prefix : <file:///#> \n"
     ]
    },
    {
     "name": "stderr",
     "output_type": "stream",
     "text": [
      "@prefix : <file:///#> \n"
     ]
    }
   ],
   "source": [
    "def init_logging():\n",
    "\t#stdout = logging.StreamHandler()\n",
    "\tl1 = logging.getLogger()\n",
    "\t#l1.setFormatter(logging.Formatter('#%(message)s'))\n",
    "\tl1.setLevel(logging.DEBUG)\n",
    "\tl1.addHandler(stdout)\n",
    "\n",
    "\tkbdbg_file_sink = logging.FileHandler('kbdbg.nt')\n",
    "\tkbdbg_file_sink.setFormatter(logging.Formatter('%(message)s.'))\n",
    "\tl2 = logging.getLogger(\"kbdbg\")\n",
    "\tl2.setLevel(logging.DEBUG)\n",
    "\tl2.addHandler(kbdbg_file_sink)\n",
    "\n",
    "\treturn l1.debug, l2.info\n",
    "\n",
    "\n",
    "log, kbdbg = init_logging()\n",
    "\n",
    "kbdbg(\"@prefix kbdbg: <http://kbd.bg/#> \")\n",
    "kbdbg(\"@prefix : <file:///#> \")"
   ]
  },
  {
   "cell_type": "code",
   "execution_count": null,
   "metadata": {},
   "outputs": [],
   "source": []
  }
 ],
 "metadata": {},
 "nbformat": 4,
 "nbformat_minor": 0
}
